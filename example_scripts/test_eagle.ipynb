{
 "cells": [
  {
   "cell_type": "code",
   "execution_count": 10,
   "id": "a6f2a1fc",
   "metadata": {},
   "outputs": [],
   "source": [
    "import h5py\n"
   ]
  },
  {
   "cell_type": "code",
   "execution_count": 1,
   "id": "d8bf3800",
   "metadata": {
    "scrolled": true
   },
   "outputs": [
    {
     "name": "stdout",
     "output_type": "stream",
     "text": [
      "\u001b[1mDownloading and preparing dataset Unknown size (download: Unknown size, generated: Unknown size, total: Unknown size) to /Users/marchuertascompany/Documents/data/EAGLE/eagle/1.0.0...\u001b[0m\n"
     ]
    },
    {
     "data": {
      "application/vnd.jupyter.widget-view+json": {
       "model_id": "4db2d9bc956a42618c1d15d55f06095d",
       "version_major": 2,
       "version_minor": 0
      },
      "text/plain": [
       "Generating splits...:   0%|          | 0/1 [00:00<?, ? splits/s]"
      ]
     },
     "metadata": {},
     "output_type": "display_data"
    },
    {
     "data": {
      "application/vnd.jupyter.widget-view+json": {
       "model_id": "4730c829735c48eba472f95d06966a6e",
       "version_major": 2,
       "version_minor": 0
      },
      "text/plain": [
       "Generating train examples...: 0 examples [00:00, ? examples/s]"
      ]
     },
     "metadata": {},
     "output_type": "display_data"
    },
    {
     "data": {
      "application/vnd.jupyter.widget-view+json": {
       "model_id": "ee772c43062c43b58d05854d8a2a19ea",
       "version_major": 2,
       "version_minor": 0
      },
      "text/plain": [
       "Shuffling eagle-train.tfrecord...:   0%|          | 0/99 [00:00<?, ? examples/s]"
      ]
     },
     "metadata": {},
     "output_type": "display_data"
    },
    {
     "name": "stdout",
     "output_type": "stream",
     "text": [
      "\u001b[1mDataset eagle downloaded and prepared to /Users/marchuertascompany/Documents/data/EAGLE/eagle/1.0.0. Subsequent calls will reuse this data.\u001b[0m\n"
     ]
    }
   ],
   "source": [
    "# The target directory (#change to correct path in Jean-Zay)\n",
    "data_dir = '/Users/marchuertascompany/Documents/data/EAGLE'\n",
    "\n",
    "import os\n",
    "import glob\n",
    "import tensorflow as tf\n",
    "import h5py as h5py\n",
    "import tensorflow_datasets as tfds\n",
    "from scipy.interpolate import interp1d\n",
    "from astropy.table import Table\n",
    "from astropy.io import fits\n",
    "import numpy as np\n",
    "import pandas as pd # To extract the SnapNumLastMajorMerger values from TNG100_SDSS_MajorMergers.csv\n",
    "import eagle\n",
    "\n",
    "#path = '/Users/marchuertascompany/Documents/data/EAGLE/downloads/manual'\n",
    "#hf = h5py.File(path+'/dataMagnitudes_2000kpc_EMILES_PDXX_DUST_CH_028_z000p000.hdf5', 'r')\n",
    "\n",
    "dset = tfds.load('eagle', split='train', data_dir=data_dir)"
   ]
  }
 ],
 "metadata": {
  "kernelspec": {
   "display_name": "Python [conda env:dl4astro19]",
   "language": "python",
   "name": "conda-env-dl4astro19-py"
  },
  "language_info": {
   "codemirror_mode": {
    "name": "ipython",
    "version": 3
   },
   "file_extension": ".py",
   "mimetype": "text/x-python",
   "name": "python",
   "nbconvert_exporter": "python",
   "pygments_lexer": "ipython3",
   "version": "3.9.4"
  }
 },
 "nbformat": 4,
 "nbformat_minor": 5
}
