{
 "cells": [
  {
   "attachments": {},
   "cell_type": "markdown",
   "metadata": {},
   "source": [
    "# Preprocessing and data set creation"
   ]
  },
  {
   "cell_type": "code",
   "execution_count": 5,
   "metadata": {},
   "outputs": [],
   "source": [
    "import numpy as np\n",
    "import matplotlib.pyplot as plt\n",
    "from astropy.visualization import astropy_mpl_style\n",
    "import os\n",
    "import tensorflow as tf\n",
    "import tensorflow_datasets as tfds\n",
    "from astropy.io import fits\n",
    "from TNGDataSet import TNGDataSet\n",
    "plt.style.use(astropy_mpl_style)"
   ]
  },
  {
   "cell_type": "code",
   "execution_count": null,
   "metadata": {},
   "outputs": [],
   "source": [
    "# Dummy scaling function\n",
    "def ScaleImage(img):\n",
    "    return img[0:500,0:500].astype('float32')"
   ]
  },
  {
   "attachments": {},
   "cell_type": "markdown",
   "metadata": {},
   "source": [
    "## Tracing function\n",
    "set to 0 for no traces up to 4 for alot of traces"
   ]
  },
  {
   "cell_type": "code",
   "execution_count": null,
   "metadata": {},
   "outputs": [],
   "source": [
    "os.environ[\"DIFF_TRACE\"]=\"0\""
   ]
  },
  {
   "attachments": {},
   "cell_type": "markdown",
   "metadata": {},
   "source": [
    "## Set up dataset creation arguments and load the data set\n",
    "\n",
    "Dataset is only loaded the first time and will be stored locally in data_dir/tng_data_set folder\n",
    "If you wish to reload you need to delete this folder and relanch this cell"
   ]
  },
  {
   "cell_type": "code",
   "execution_count": null,
   "metadata": {},
   "outputs": [],
   "source": [
    "arg_dict = {\n",
    "    'train_percent':0.0001,\n",
    "    'val_percent':0.0001, \n",
    "    'test_percent':0.0001 , \n",
    "    'generation_verbosity' : 10 , \n",
    "    'Scaler_fcn':ScaleImage,\n",
    "    'band_filters' : ['CFHT_MEGACAM.U', 'SUBARU_HSC.G' ,'SUBARU_HSC.R' ,'CFHT_MEGACAM.R' ,'SUBARU_HSC.I', 'SUBARU_HSC.Z' ,'SUBARU_HSC.Y']\n",
    "    }\n",
    "#subsets = [tfds.Split.TRAIN,tfds.Split.VALIDATION, tfds.Split.TEST]\n",
    "subsets = [tfds.Split.TRAIN,tfds.Split.VALIDATION]\n",
    "ds = tfds.load('TNGDataSet',split=subsets,data_dir=\"/scratch/astroinfo2023/diffusion/\",builder_kwargs=arg_dict)"
   ]
  },
  {
   "attachments": {},
   "cell_type": "markdown",
   "metadata": {},
   "source": [
    "To recover the subsets you can recover them directly from the newly created dataset"
   ]
  },
  {
   "cell_type": "code",
   "execution_count": 1,
   "metadata": {},
   "outputs": [
    {
     "ename": "NameError",
     "evalue": "name 'ds' is not defined",
     "output_type": "error",
     "traceback": [
      "\u001b[0;31m---------------------------------------------------------------------------\u001b[0m",
      "\u001b[0;31mNameError\u001b[0m                                 Traceback (most recent call last)",
      "Cell \u001b[0;32mIn[1], line 1\u001b[0m\n\u001b[0;32m----> 1\u001b[0m train_dataset, validation_dataset \u001b[39m=\u001b[39m ds\n",
      "\u001b[0;31mNameError\u001b[0m: name 'ds' is not defined"
     ]
    }
   ],
   "source": [
    "train_dataset, validation_dataset = ds"
   ]
  },
  {
   "attachments": {},
   "cell_type": "markdown",
   "metadata": {},
   "source": [
    "# WIP : Plotting proto"
   ]
  },
  {
   "cell_type": "code",
   "execution_count": null,
   "metadata": {},
   "outputs": [],
   "source": [
    "film = fits.open('/scratch/astroinfo2023/diffusion/072/shalo_072-593921_v3_photo.fits')\n",
    "\n",
    "for i in film:\n",
    "    print(i[\"EXTNAME\"])"
   ]
  }
 ],
 "metadata": {
  "kernelspec": {
   "display_name": "astro",
   "language": "python",
   "name": "python3"
  },
  "language_info": {
   "codemirror_mode": {
    "name": "ipython",
    "version": 3
   },
   "file_extension": ".py",
   "mimetype": "text/x-python",
   "name": "python",
   "nbconvert_exporter": "python",
   "pygments_lexer": "ipython3",
   "version": "3.8.16"
  },
  "orig_nbformat": 4
 },
 "nbformat": 4,
 "nbformat_minor": 2
}
