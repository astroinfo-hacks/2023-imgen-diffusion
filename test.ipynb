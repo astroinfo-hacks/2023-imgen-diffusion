{
 "cells": [
  {
   "cell_type": "code",
   "execution_count": 4,
   "metadata": {},
   "outputs": [],
   "source": [
    "import os\n",
    "def ReturnFiles(dir):\n",
    "   for root, dirs, files in os.walk(dir, topdown=False):\n",
    "    for name in files:\n",
    "        yield (os.path.join(root, name))\n",
    "# The target directory (#change to correct path in Jean-Zay)\n",
    "data_dir = '/home/wassim/Projects/Hackathon23/hack-galaxy-image-diffusion/data/'"
   ]
  },
  {
   "cell_type": "code",
   "execution_count": 5,
   "metadata": {},
   "outputs": [
    {
     "name": "stdout",
     "output_type": "stream",
     "text": [
      "/home/wassim/Projects/Hackathon23/hack-galaxy-image-diffusion/data/shalo_091-546948_v1_photo.fits\n",
      "/home/wassim/Projects/Hackathon23/hack-galaxy-image-diffusion/data/shalo_091-0_v0_photo.fits\n",
      "/home/wassim/Projects/Hackathon23/hack-galaxy-image-diffusion/data/shalo_091-545062_v2_photo.fits\n",
      "/home/wassim/Projects/Hackathon23/hack-galaxy-image-diffusion/data/shalo_091-546947_v3_photo.fits\n",
      "/home/wassim/Projects/Hackathon23/hack-galaxy-image-diffusion/data/shalo_091-0_v2_photo.fits\n",
      "/home/wassim/Projects/Hackathon23/hack-galaxy-image-diffusion/data/shalo_091-546948_v0_photo.fits\n",
      "/home/wassim/Projects/Hackathon23/hack-galaxy-image-diffusion/data/shalo_091-546947_v1_photo.fits\n",
      "/home/wassim/Projects/Hackathon23/hack-galaxy-image-diffusion/data/shalo_091-0_v3_photo.fits\n",
      "/home/wassim/Projects/Hackathon23/hack-galaxy-image-diffusion/data/shalo_091-544777_v2_photo.fits\n",
      "/home/wassim/Projects/Hackathon23/hack-galaxy-image-diffusion/data/shalo_091-545062_v0_photo.fits\n",
      "/home/wassim/Projects/Hackathon23/hack-galaxy-image-diffusion/data/shalo_091-546947_v2_photo.fits\n",
      "/home/wassim/Projects/Hackathon23/hack-galaxy-image-diffusion/data/shalo_091-544777_v3_photo.fits\n",
      "/home/wassim/Projects/Hackathon23/hack-galaxy-image-diffusion/data/shalo_091-0_v1_photo.fits\n",
      "/home/wassim/Projects/Hackathon23/hack-galaxy-image-diffusion/data/shalo_091-545062_v1_photo.fits\n",
      "/home/wassim/Projects/Hackathon23/hack-galaxy-image-diffusion/data/shalo_091-546947_v0_photo.fits\n",
      "/home/wassim/Projects/Hackathon23/hack-galaxy-image-diffusion/data/shalo_091-545062_v3_photo.fits\n"
     ]
    }
   ],
   "source": [
    "for i in ReturnFiles(data_dir):\n",
    "    print(i)"
   ]
  },
  {
   "cell_type": "code",
   "execution_count": null,
   "metadata": {},
   "outputs": [],
   "source": [
    "\n",
    "\n",
    "import os\n",
    "import glob\n",
    "import tensorflow as tf\n",
    "import tensorflow_datasets as tfds\n",
    "from scipy.interpolate import interp1d\n",
    "from astropy.table import Table\n",
    "from astropy.io import fits\n",
    "import numpy as np\n",
    "import pandas as pd # To extract the SnapNumLastMajorMerger values from TNG100_SDSS_MajorMergers.csv\n",
    "import eagle\n",
    "\n",
    "#path = '/Users/marchuertascompany/Documents/data/EAGLE/downloads/manual'\n",
    "#hf = h5py.File(path+'/dataMagnitudes_2000kpc_EMILES_PDXX_DUST_CH_028_z000p000.hdf5', 'r')\n",
    "\n",
    "dset = tfds.load('eagle', split='train', data_dir=data_dir)"
   ]
  }
 ],
 "metadata": {
  "kernelspec": {
   "display_name": "astro",
   "language": "python",
   "name": "python3"
  },
  "language_info": {
   "codemirror_mode": {
    "name": "ipython",
    "version": 3
   },
   "file_extension": ".py",
   "mimetype": "text/x-python",
   "name": "python",
   "nbconvert_exporter": "python",
   "pygments_lexer": "ipython3",
   "version": "3.8.0"
  },
  "orig_nbformat": 4
 },
 "nbformat": 4,
 "nbformat_minor": 2
}
