{
 "cells": [
  {
   "cell_type": "code",
   "execution_count": 1,
   "id": "a491dcfd-3207-4539-9af5-69ab2b25be0c",
   "metadata": {},
   "outputs": [
    {
     "name": "stdout",
     "output_type": "stream",
     "text": [
      "%pylab is deprecated, use %matplotlib inline and import the required libraries.\n",
      "Populating the interactive namespace from numpy and matplotlib\n"
     ]
    },
    {
     "name": "stderr",
     "output_type": "stream",
     "text": [
      "2023-07-06 15:32:23.243283: W tensorflow/compiler/tf2tensorrt/utils/py_utils.cc:38] TF-TRT Warning: Could not find TensorRT\n"
     ]
    }
   ],
   "source": [
    "%pylab inline\n",
    "import jax\n",
    "import jax.numpy as jnp\n",
    "from tensorflow_probability.substrates import jax as tfp\n",
    "from diffrax import diffeqsolve, ControlTerm, Euler, MultiTerm, ODETerm, SaveAt, VirtualBrownianTree, ReversibleHeun\n",
    "from scipy.integrate import simps\n",
    "tfd = tfp.distributions\n",
    "tfb = tfp.bijectors\n",
    "import pickle\n",
    "\n",
    "import haiku as hk\n",
    "from models import SmallUResNet\n",
    "from normalization import SNParamsTree"
   ]
  },
  {
   "cell_type": "code",
   "execution_count": 2,
   "id": "d9317421-a455-4cf0-b1d7-0b519f312eae",
   "metadata": {},
   "outputs": [],
   "source": [
    "def load_denoising_model(path):\n",
    "    \n",
    "    with open(path, 'rb') as handle:\n",
    "        params, state, opt_state = pickle.load(handle)\n",
    "\n",
    "    return params, state, opt_state"
   ]
  },
  {
   "cell_type": "code",
   "execution_count": 3,
   "id": "8fb9d87c-550b-489f-acf3-6e8ab52ddb58",
   "metadata": {},
   "outputs": [],
   "source": [
    "def score_fn_denoiser(y, s, model, params, state):\n",
    "\n",
    "    score, _ = model.apply(params, state, None, y, s.reshape((-1,1,1,1)), is_training=False)\n",
    "    \n",
    "    return score"
   ]
  },
  {
   "cell_type": "code",
   "execution_count": 4,
   "id": "77f37c00-4797-48fd-82da-795b6855f8cc",
   "metadata": {},
   "outputs": [
    {
     "name": "stderr",
     "output_type": "stream",
     "text": [
      "No GPU/TPU found, falling back to CPU. (Set TF_CPP_MIN_LOG_LEVEL=0 and rerun for more info.)\n"
     ]
    }
   ],
   "source": [
    "filepath = './models/score_model_0.025/model-2.pckl'\n",
    "params, state, opt_state = load_denoising_model(filepath)\n",
    "\n",
    "model = hk.transform_with_state(lambda x, sigma, is_training=False: SmallUResNet()(x, sigma, is_training))"
   ]
  },
  {
   "cell_type": "code",
   "execution_count": null,
   "id": "b7402f2f-dfe8-489d-845b-0add9cff11ed",
   "metadata": {},
   "outputs": [],
   "source": []
  },
  {
   "cell_type": "code",
   "execution_count": 5,
   "id": "e3333bb7-40bb-4f93-9e02-e0bfb2d40a4a",
   "metadata": {},
   "outputs": [],
   "source": [
    "# not used at the moment\n",
    "# def make_likelihood(sigma=0.):\n",
    "#     \"\"\"\n",
    "#     Returns a mixture of Gaussians, convolved with a Gaussian of specified sigma\n",
    "#     \"\"\"\n",
    "    \n",
    "#     return tfd.Normal(2.5, jnp.sqrt(0.1**2 +sigma**2) )\n"
   ]
  },
  {
   "cell_type": "code",
   "execution_count": 6,
   "id": "1972d662-64ef-46e2-9817-e7b4060169a1",
   "metadata": {},
   "outputs": [],
   "source": [
    "def score_fn(t,x, model, params, state, pure_prior = True):\n",
    "    if(pure_prior == False):  \n",
    "        return 1\n",
    "    else:\n",
    "        return score_fn_denoiser(x, t, model, params, state)"
   ]
  },
  {
   "cell_type": "markdown",
   "id": "8c462c46-2baf-4167-80e1-13fb6bf7cedc",
   "metadata": {},
   "source": [
    "# Sampling at fixed time"
   ]
  },
  {
   "cell_type": "code",
   "execution_count": 7,
   "id": "0d6010b5-7ac3-4417-835c-5a603454baf8",
   "metadata": {},
   "outputs": [],
   "source": [
    "t0, t1 = 2., 0.\n",
    "s_init = jnp.ones((1))\n",
    "\n",
    "drift = lambda t, y, args: - 0.5 * score_fn(s_init, y, model, params, state)\n",
    "diffusion = lambda t, y, args: jnp.ones_like(y)\n",
    "solver = Euler()\n",
    "\n",
    "@jax.jit\n",
    "@jax.vmap\n",
    "def get_samples(y, seed):\n",
    "    \n",
    "    brownian_motion = VirtualBrownianTree(t0, t1, tol=1e-6, shape=(), key=seed)\n",
    "    terms = MultiTerm(ODETerm(drift), ControlTerm(diffusion, brownian_motion))\n",
    "    \n",
    "    return diffeqsolve(terms, solver, t0, t1, dt0=-0.001, y0=y, max_steps=10_000).ys[0]"
   ]
  },
  {
   "cell_type": "code",
   "execution_count": null,
   "id": "d3a9f21c-db8a-441d-bacb-d155f4ce2875",
   "metadata": {},
   "outputs": [],
   "source": [
    "n_samples = 10\n",
    "\n",
    "initial_samples = jax.random.normal(shape = (n_samples, 1, 128, 128, 1), key=jax.random.PRNGKey(13))\n",
    "res = get_samples(\n",
    "    initial_samples,\n",
    "    jax.random.split(jax.random.PRNGKey(3), n_samples)\n",
    ")"
   ]
  },
  {
   "cell_type": "code",
   "execution_count": null,
   "id": "8dd0eeea-e940-42b1-872a-2fa876e6897a",
   "metadata": {},
   "outputs": [],
   "source": []
  },
  {
   "cell_type": "code",
   "execution_count": null,
   "id": "2ac2f47d-6a83-47ad-b482-20f9ad11ed08",
   "metadata": {},
   "outputs": [],
   "source": [
    "t0, t1 = 5., 0.\n",
    "drift = lambda t, y, args: - 0.5 * score_fn(t/t0, y) # Now sigma is a function of time\n",
    "diffusion = lambda t, y, args: jnp.ones_like(y)\n",
    "solver = Euler()\n",
    "saveat = SaveAt(ts=jnp.linspace(t0,t1))\n",
    "\n",
    "@jax.jit\n",
    "@jax.vmap\n",
    "def get_samples(y, seed):\n",
    "    brownian_motion = VirtualBrownianTree(t0, t1, tol=1e-4, shape=(), key=seed)\n",
    "    terms = MultiTerm(ODETerm(drift), ControlTerm(diffusion, brownian_motion))\n",
    "    return diffeqsolve(terms, solver, t0, t1, dt0=-0.001, y0=y, max_steps=10_000, saveat=saveat).ys"
   ]
  },
  {
   "cell_type": "code",
   "execution_count": null,
   "id": "9cfb6a4f-1ff3-4ffa-b5ef-b81fc162e620",
   "metadata": {},
   "outputs": [],
   "source": [
    "ref_samples = res+0\n",
    "\n",
    "res = get_samples(\n",
    "    ref_samples,\n",
    "    jax.random.split(jax.random.PRNGKey(8), 10_000)\n",
    ")"
   ]
  },
  {
   "cell_type": "code",
   "execution_count": null,
   "id": "3ed91049-ca50-445d-9f08-e50bc8c89e5f",
   "metadata": {},
   "outputs": [],
   "source": []
  },
  {
   "cell_type": "code",
   "execution_count": null,
   "id": "22243891-d6dc-46ae-9ad1-9e1572a2de0f",
   "metadata": {},
   "outputs": [],
   "source": []
  },
  {
   "cell_type": "code",
   "execution_count": null,
   "id": "5289a19b-1fd0-4e34-965c-41cbf190c6b6",
   "metadata": {},
   "outputs": [],
   "source": []
  }
 ],
 "metadata": {
  "kernelspec": {
   "display_name": "Python 3 (ipykernel)",
   "language": "python",
   "name": "python3"
  },
  "language_info": {
   "codemirror_mode": {
    "name": "ipython",
    "version": 3
   },
   "file_extension": ".py",
   "mimetype": "text/x-python",
   "name": "python",
   "nbconvert_exporter": "python",
   "pygments_lexer": "ipython3",
   "version": "3.11.4"
  }
 },
 "nbformat": 4,
 "nbformat_minor": 5
}
