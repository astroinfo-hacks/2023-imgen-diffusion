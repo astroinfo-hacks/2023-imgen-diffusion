{
 "cells": [
  {
   "cell_type": "code",
   "execution_count": 25,
   "metadata": {},
   "outputs": [],
   "source": [
    "import numpy as np\n",
    "import astropy\n",
    "import matplotlib.pyplot as plt\n",
    "import matplotlib\n",
    "import copy\n",
    "import astropy.io.fits as _fits\n",
    "import pandas as pd\n",
    "\n",
    "import transformations"
   ]
  },
  {
   "cell_type": "code",
   "execution_count": 39,
   "metadata": {},
   "outputs": [],
   "source": [
    "def get_dataframe_in_adapted_formatting(df):\n",
    "    \n",
    "    new_df = df.T.rename(columns=df.T.loc['Keyword'])\n",
    "    new_df = new_df.drop('Keyword')\n",
    "    \n",
    "    return new_df\n",
    "\n",
    "def add_column_size_after_rescaling(df, experiment, use_random_redshift = False):\n",
    "    \n",
    "    if(use_random_redshift):\n",
    "        z = df['random_redshift']\n",
    "    else:\n",
    "        z = df['REDSHIFT']\n",
    "    \n",
    "    df['rescale_factor_' + experiment] = transformations.get_down_scale_factor(\n",
    "        z = z,\n",
    "        experiment = experiment\n",
    "    )\n",
    "    \n",
    "    df['size_after_rescaling_' + experiment] = df['NAXIS1'].values / df['rescale_factor_' + experiment].values\n",
    "    \n",
    "def add_random_redshift(df, zmin = 0.1, zmax = 0.4):\n",
    "    # Generate a redshift scalar between zmin and zmax\n",
    "    random_redshifts = np.random.uniform(zmin, zmax, size = df.shape[0])\n",
    "    \n",
    "    df['random_redshift'] = random_redshifts"
   ]
  },
  {
   "cell_type": "code",
   "execution_count": 27,
   "metadata": {},
   "outputs": [],
   "source": [
    "filename = '../../example_data/parameter_stat_72.csv'\n",
    "chunksize = 1_000\n",
    "tfr = pd.read_csv(filename, sep = ';', chunksize = chunksize, iterator = True)\n",
    "df = pd.concat(tfr, ignore_index=False)"
   ]
  },
  {
   "cell_type": "code",
   "execution_count": 28,
   "metadata": {},
   "outputs": [],
   "source": [
    "df = get_dataframe_in_adapted_formatting(df)"
   ]
  },
  {
   "cell_type": "code",
   "execution_count": 29,
   "metadata": {},
   "outputs": [
    {
     "name": "stdout",
     "output_type": "stream",
     "text": [
      "['BITPIX', 'NAXIS', 'NAXIS1', 'NAXIS2', 'SNAPNUM', 'SUBHALO', 'INCL', 'AZIM', 'ROLL', 'REDSHIFT', 'NPACKET', 'WLPIVOT', 'FOVSIZE', 'CRPIX1', 'CRVAL1', 'CDELT1', 'CRPIX2', 'CRVAL2', 'CDELT2']\n"
     ]
    }
   ],
   "source": [
    "# Select columns with string data type\n",
    "string_columns = df.select_dtypes(include='object').columns\n",
    "\n",
    "not_desired_columns = ['SIMPLE', 'EXTEND', 'ORIGIN', 'EXTNAME', 'SIMTAG', 'BUNIT', 'CTYPE1', 'CTYPE2', 'CAMERA', 'COSMO', 'FILTER']\n",
    "string_columns = [key for key in string_columns if key not in not_desired_columns]\n",
    "print(string_columns)\n",
    "# Convert selected columns to float data type\n",
    "df[string_columns] = df[string_columns].astype(float)"
   ]
  },
  {
   "cell_type": "code",
   "execution_count": 30,
   "metadata": {},
   "outputs": [
    {
     "data": {
      "text/plain": [
       "shalo_072-299394_v1_photo.fits    0.3999\n",
       "shalo_072-119154_v1_photo.fits    0.3999\n",
       "shalo_072-435665_v1_photo.fits    0.3999\n",
       "shalo_072-501692_v1_photo.fits    0.3999\n",
       "shalo_072-194862_v3_photo.fits    0.3999\n",
       "                                   ...  \n",
       "shalo_072-552253_v3_photo.fits    0.3999\n",
       "shalo_072-531318_v3_photo.fits    0.3999\n",
       "shalo_072-542037_v2_photo.fits    0.3999\n",
       "shalo_072-570727_v3_photo.fits    0.3999\n",
       "shalo_072-529751_v1_photo.fits    0.3999\n",
       "Name: REDSHIFT, Length: 11244, dtype: float64"
      ]
     },
     "execution_count": 30,
     "metadata": {},
     "output_type": "execute_result"
    }
   ],
   "source": [
    "df['REDSHIFT']"
   ]
  },
  {
   "cell_type": "code",
   "execution_count": 31,
   "metadata": {},
   "outputs": [],
   "source": [
    "add_column_size_after_rescaling(df, 'HSC')"
   ]
  },
  {
   "cell_type": "code",
   "execution_count": null,
   "metadata": {},
   "outputs": [],
   "source": []
  },
  {
   "cell_type": "code",
   "execution_count": 32,
   "metadata": {},
   "outputs": [
    {
     "data": {
      "text/plain": [
       "array([[<AxesSubplot:title={'center':'NAXIS1'}>]], dtype=object)"
      ]
     },
     "execution_count": 32,
     "metadata": {},
     "output_type": "execute_result"
    },
    {
     "data": {
      "image/png": "[encoded data removed]",
      "text/plain": [
       "<Figure size 432x288 with 1 Axes>"
      ]
     },
     "metadata": {
      "needs_background": "light"
     },
     "output_type": "display_data"
    }
   ],
   "source": [
    "df.hist('NAXIS1')"
   ]
  },
  {
   "cell_type": "code",
   "execution_count": 33,
   "metadata": {},
   "outputs": [
    {
     "data": {
      "text/plain": [
       "array([[<AxesSubplot:title={'center':'size_after_rescaling_HSC'}>]],\n",
       "      dtype=object)"
      ]
     },
     "execution_count": 33,
     "metadata": {},
     "output_type": "execute_result"
    },
    {
     "data": {
      "image/png": "[encoded data removed]",
      "text/plain": [
       "<Figure size 432x288 with 1 Axes>"
      ]
     },
     "metadata": {
      "needs_background": "light"
     },
     "output_type": "display_data"
    }
   ],
   "source": [
    "df.hist('size_after_rescaling_HSC', bins = 'auto')"
   ]
  },
  {
   "cell_type": "code",
   "execution_count": 34,
   "metadata": {},
   "outputs": [
    {
     "data": {
      "text/plain": [
       "53.11699733374046"
      ]
     },
     "execution_count": 34,
     "metadata": {},
     "output_type": "execute_result"
    }
   ],
   "source": [
    "df['size_after_rescaling_HSC'].min()"
   ]
  },
  {
   "cell_type": "code",
   "execution_count": 35,
   "metadata": {},
   "outputs": [],
   "source": [
    "add_random_redshift(df)"
   ]
  },
  {
   "cell_type": "code",
   "execution_count": 36,
   "metadata": {},
   "outputs": [
    {
     "data": {
      "text/html": [
       "<div>\n",
       "<style scoped>\n",
       "    .dataframe tbody tr th:only-of-type {\n",
       "        vertical-align: middle;\n",
       "    }\n",
       "\n",
       "    .dataframe tbody tr th {\n",
       "        vertical-align: top;\n",
       "    }\n",
       "\n",
       "    .dataframe thead th {\n",
       "        text-align: right;\n",
       "    }\n",
       "</style>\n",
       "<table border=\"1\" class=\"dataframe\">\n",
       "  <thead>\n",
       "    <tr style=\"text-align: right;\">\n",
       "      <th></th>\n",
       "      <th>SIMPLE</th>\n",
       "      <th>BITPIX</th>\n",
       "      <th>NAXIS</th>\n",
       "      <th>NAXIS1</th>\n",
       "      <th>NAXIS2</th>\n",
       "      <th>EXTEND</th>\n",
       "      <th>EXTNAME</th>\n",
       "      <th>ORIGIN</th>\n",
       "      <th>SIMTAG</th>\n",
       "      <th>SNAPNUM</th>\n",
       "      <th>...</th>\n",
       "      <th>CRVAL1</th>\n",
       "      <th>CDELT1</th>\n",
       "      <th>CTYPE1</th>\n",
       "      <th>CRPIX2</th>\n",
       "      <th>CRVAL2</th>\n",
       "      <th>CDELT2</th>\n",
       "      <th>CTYPE2</th>\n",
       "      <th>rescale_factor_HSC</th>\n",
       "      <th>size_after_rescaling_HSC</th>\n",
       "      <th>random_redshift</th>\n",
       "    </tr>\n",
       "  </thead>\n",
       "  <tbody>\n",
       "    <tr>\n",
       "      <th>shalo_072-299394_v1_photo.fits</th>\n",
       "      <td>True</td>\n",
       "      <td>-32.0</td>\n",
       "      <td>2.0</td>\n",
       "      <td>1464.0</td>\n",
       "      <td>1464.0</td>\n",
       "      <td>True</td>\n",
       "      <td>CFHT_MEGACAM.U</td>\n",
       "      <td>SKIRT 9 Simulation</td>\n",
       "      <td>TNG50-1</td>\n",
       "      <td>72.0</td>\n",
       "      <td>...</td>\n",
       "      <td>0.0</td>\n",
       "      <td>0.099961</td>\n",
       "      <td>kpc</td>\n",
       "      <td>732.0</td>\n",
       "      <td>0.0</td>\n",
       "      <td>0.099961</td>\n",
       "      <td>kpc</td>\n",
       "      <td>9.413183</td>\n",
       "      <td>155.526568</td>\n",
       "      <td>0.344764</td>\n",
       "    </tr>\n",
       "    <tr>\n",
       "      <th>shalo_072-119154_v1_photo.fits</th>\n",
       "      <td>True</td>\n",
       "      <td>-32.0</td>\n",
       "      <td>2.0</td>\n",
       "      <td>657.0</td>\n",
       "      <td>657.0</td>\n",
       "      <td>True</td>\n",
       "      <td>CFHT_MEGACAM.U</td>\n",
       "      <td>SKIRT 9 Simulation</td>\n",
       "      <td>TNG50-1</td>\n",
       "      <td>72.0</td>\n",
       "      <td>...</td>\n",
       "      <td>0.0</td>\n",
       "      <td>0.099879</td>\n",
       "      <td>kpc</td>\n",
       "      <td>328.5</td>\n",
       "      <td>0.0</td>\n",
       "      <td>0.099879</td>\n",
       "      <td>kpc</td>\n",
       "      <td>9.413183</td>\n",
       "      <td>69.795734</td>\n",
       "      <td>0.280382</td>\n",
       "    </tr>\n",
       "    <tr>\n",
       "      <th>shalo_072-435665_v1_photo.fits</th>\n",
       "      <td>True</td>\n",
       "      <td>-32.0</td>\n",
       "      <td>2.0</td>\n",
       "      <td>500.0</td>\n",
       "      <td>500.0</td>\n",
       "      <td>True</td>\n",
       "      <td>CFHT_MEGACAM.U</td>\n",
       "      <td>SKIRT 9 Simulation</td>\n",
       "      <td>TNG50-1</td>\n",
       "      <td>72.0</td>\n",
       "      <td>...</td>\n",
       "      <td>0.0</td>\n",
       "      <td>0.100000</td>\n",
       "      <td>kpc</td>\n",
       "      <td>250.0</td>\n",
       "      <td>0.0</td>\n",
       "      <td>0.100000</td>\n",
       "      <td>kpc</td>\n",
       "      <td>9.413183</td>\n",
       "      <td>53.116997</td>\n",
       "      <td>0.136902</td>\n",
       "    </tr>\n",
       "    <tr>\n",
       "      <th>shalo_072-501692_v1_photo.fits</th>\n",
       "      <td>True</td>\n",
       "      <td>-32.0</td>\n",
       "      <td>2.0</td>\n",
       "      <td>1012.0</td>\n",
       "      <td>1012.0</td>\n",
       "      <td>True</td>\n",
       "      <td>CFHT_MEGACAM.U</td>\n",
       "      <td>SKIRT 9 Simulation</td>\n",
       "      <td>TNG50-1</td>\n",
       "      <td>72.0</td>\n",
       "      <td>...</td>\n",
       "      <td>0.0</td>\n",
       "      <td>0.099909</td>\n",
       "      <td>kpc</td>\n",
       "      <td>506.0</td>\n",
       "      <td>0.0</td>\n",
       "      <td>0.099909</td>\n",
       "      <td>kpc</td>\n",
       "      <td>9.413183</td>\n",
       "      <td>107.508803</td>\n",
       "      <td>0.163077</td>\n",
       "    </tr>\n",
       "    <tr>\n",
       "      <th>shalo_072-194862_v3_photo.fits</th>\n",
       "      <td>True</td>\n",
       "      <td>-32.0</td>\n",
       "      <td>2.0</td>\n",
       "      <td>536.0</td>\n",
       "      <td>536.0</td>\n",
       "      <td>True</td>\n",
       "      <td>CFHT_MEGACAM.U</td>\n",
       "      <td>SKIRT 9 Simulation</td>\n",
       "      <td>TNG50-1</td>\n",
       "      <td>72.0</td>\n",
       "      <td>...</td>\n",
       "      <td>0.0</td>\n",
       "      <td>0.099875</td>\n",
       "      <td>kpc</td>\n",
       "      <td>268.0</td>\n",
       "      <td>0.0</td>\n",
       "      <td>0.099875</td>\n",
       "      <td>kpc</td>\n",
       "      <td>9.413183</td>\n",
       "      <td>56.941421</td>\n",
       "      <td>0.275264</td>\n",
       "    </tr>\n",
       "  </tbody>\n",
       "</table>\n",
       "<p>5 rows × 33 columns</p>\n",
       "</div>"
      ],
      "text/plain": [
       "                               SIMPLE  BITPIX  NAXIS  NAXIS1  NAXIS2 EXTEND  \\\n",
       "shalo_072-299394_v1_photo.fits   True   -32.0    2.0  1464.0  1464.0   True   \n",
       "shalo_072-119154_v1_photo.fits   True   -32.0    2.0   657.0   657.0   True   \n",
       "shalo_072-435665_v1_photo.fits   True   -32.0    2.0   500.0   500.0   True   \n",
       "shalo_072-501692_v1_photo.fits   True   -32.0    2.0  1012.0  1012.0   True   \n",
       "shalo_072-194862_v3_photo.fits   True   -32.0    2.0   536.0   536.0   True   \n",
       "\n",
       "                                       EXTNAME              ORIGIN   SIMTAG  \\\n",
       "shalo_072-299394_v1_photo.fits  CFHT_MEGACAM.U  SKIRT 9 Simulation  TNG50-1   \n",
       "shalo_072-119154_v1_photo.fits  CFHT_MEGACAM.U  SKIRT 9 Simulation  TNG50-1   \n",
       "shalo_072-435665_v1_photo.fits  CFHT_MEGACAM.U  SKIRT 9 Simulation  TNG50-1   \n",
       "shalo_072-501692_v1_photo.fits  CFHT_MEGACAM.U  SKIRT 9 Simulation  TNG50-1   \n",
       "shalo_072-194862_v3_photo.fits  CFHT_MEGACAM.U  SKIRT 9 Simulation  TNG50-1   \n",
       "\n",
       "                                SNAPNUM  ...  CRVAL1    CDELT1  CTYPE1  \\\n",
       "shalo_072-299394_v1_photo.fits     72.0  ...     0.0  0.099961     kpc   \n",
       "shalo_072-119154_v1_photo.fits     72.0  ...     0.0  0.099879     kpc   \n",
       "shalo_072-435665_v1_photo.fits     72.0  ...     0.0  0.100000     kpc   \n",
       "shalo_072-501692_v1_photo.fits     72.0  ...     0.0  0.099909     kpc   \n",
       "shalo_072-194862_v3_photo.fits     72.0  ...     0.0  0.099875     kpc   \n",
       "\n",
       "                                CRPIX2  CRVAL2    CDELT2  CTYPE2  \\\n",
       "shalo_072-299394_v1_photo.fits   732.0     0.0  0.099961     kpc   \n",
       "shalo_072-119154_v1_photo.fits   328.5     0.0  0.099879     kpc   \n",
       "shalo_072-435665_v1_photo.fits   250.0     0.0  0.100000     kpc   \n",
       "shalo_072-501692_v1_photo.fits   506.0     0.0  0.099909     kpc   \n",
       "shalo_072-194862_v3_photo.fits   268.0     0.0  0.099875     kpc   \n",
       "\n",
       "                               rescale_factor_HSC  size_after_rescaling_HSC  \\\n",
       "shalo_072-299394_v1_photo.fits           9.413183                155.526568   \n",
       "shalo_072-119154_v1_photo.fits           9.413183                 69.795734   \n",
       "shalo_072-435665_v1_photo.fits           9.413183                 53.116997   \n",
       "shalo_072-501692_v1_photo.fits           9.413183                107.508803   \n",
       "shalo_072-194862_v3_photo.fits           9.413183                 56.941421   \n",
       "\n",
       "                                random_redshift  \n",
       "shalo_072-299394_v1_photo.fits         0.344764  \n",
       "shalo_072-119154_v1_photo.fits         0.280382  \n",
       "shalo_072-435665_v1_photo.fits         0.136902  \n",
       "shalo_072-501692_v1_photo.fits         0.163077  \n",
       "shalo_072-194862_v3_photo.fits         0.275264  \n",
       "\n",
       "[5 rows x 33 columns]"
      ]
     },
     "execution_count": 36,
     "metadata": {},
     "output_type": "execute_result"
    }
   ],
   "source": [
    "df.head()"
   ]
  },
  {
   "cell_type": "code",
   "execution_count": 40,
   "metadata": {},
   "outputs": [],
   "source": [
    "add_column_size_after_rescaling(df, 'HSC', use_random_redshift = True)"
   ]
  },
  {
   "cell_type": "code",
   "execution_count": 41,
   "metadata": {},
   "outputs": [
    {
     "data": {
      "text/plain": [
       "array([[<AxesSubplot:title={'center':'size_after_rescaling_HSC'}>]],\n",
       "      dtype=object)"
      ]
     },
     "execution_count": 41,
     "metadata": {},
     "output_type": "execute_result"
    },
    {
     "data": {
      "image/png": "[encoded data removed]",
      "text/plain": [
       "<Figure size 432x288 with 1 Axes>"
      ]
     },
     "metadata": {
      "needs_background": "light"
     },
     "output_type": "display_data"
    }
   ],
   "source": [
    "df.hist('size_after_rescaling_HSC', bins = 'auto')"
   ]
  },
  {
   "cell_type": "code",
   "execution_count": null,
   "metadata": {},
   "outputs": [],
   "source": []
  },
  {
   "cell_type": "code",
   "execution_count": null,
   "metadata": {},
   "outputs": [],
   "source": []
  }
 ],
 "metadata": {
  "kernelspec": {
   "display_name": "Python 3",
   "language": "python",
   "name": "python3"
  },
  "language_info": {
   "codemirror_mode": {
    "name": "ipython",
    "version": 3
   },
   "file_extension": ".py",
   "mimetype": "text/x-python",
   "name": "python",
   "nbconvert_exporter": "python",
   "pygments_lexer": "ipython3",
   "version": "3.8.3"
  }
 },
 "nbformat": 4,
 "nbformat_minor": 4
}
