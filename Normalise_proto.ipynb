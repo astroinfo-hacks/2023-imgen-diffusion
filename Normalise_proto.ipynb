{
 "cells": [
  {
   "attachments": {},
   "cell_type": "markdown",
   "metadata": {},
   "source": [
    "# Preprocessing and data set creation"
   ]
  },
  {
   "cell_type": "code",
   "execution_count": null,
   "metadata": {},
   "outputs": [],
   "source": [
    "import numpy as np\n",
    "import matplotlib.pyplot as plt\n",
    "from astropy.visualization import astropy_mpl_style\n",
    "import os\n",
    "import tensorflow as tf\n",
    "import tensorflow_datasets as tfds\n",
    "from astropy.io import fits\n",
    "from TNGDataSet import TNGDataSet\n",
    "plt.style.use(astropy_mpl_style)"
   ]
  },
  {
   "cell_type": "code",
   "execution_count": null,
   "metadata": {},
   "outputs": [],
   "source": [
    "# Dummy scaling function\n",
    "def ScaleImage(img):\n",
    "    return img[0:150,0:150].astype('float32')"
   ]
  },
  {
   "attachments": {},
   "cell_type": "markdown",
   "metadata": {},
   "source": [
    "## Tracing function\n",
    "set to 0 for no traces up to 4 for alot of traces"
   ]
  },
  {
   "cell_type": "code",
   "execution_count": null,
   "metadata": {},
   "outputs": [],
   "source": [
    "os.environ[\"DIFF_TRACE\"]=\"0\""
   ]
  },
  {
   "attachments": {},
   "cell_type": "markdown",
   "metadata": {},
   "source": [
    "## Set up dataset creation arguments and load the data set\n",
    "\n",
    "Dataset is only loaded the first time and will be stored locally in data_dir/tng_data_set folder\n"
   ]
  },
  {
   "cell_type": "code",
   "execution_count": 2,
   "metadata": {},
   "outputs": [],
   "source": [
    "data_dir='/scratch/astroinfo2023/diffusion/'"
   ]
  },
  {
   "attachments": {},
   "cell_type": "markdown",
   "metadata": {},
   "source": [
    "If you wish to reload you need to delete all local datasets"
   ]
  },
  {
   "cell_type": "code",
   "execution_count": null,
   "metadata": {},
   "outputs": [],
   "source": [
    "#!rm -rfv '/scratch/astroinfo2023/diffusion/tng_data_set/'"
   ]
  },
  {
   "cell_type": "code",
   "execution_count": null,
   "metadata": {},
   "outputs": [],
   "source": [
    "# This is useless :)\n",
    "dataset_version = '1.0.0'"
   ]
  },
  {
   "cell_type": "code",
   "execution_count": null,
   "metadata": {},
   "outputs": [],
   "source": [
    "# Training set preparation\n",
    "def load_dataset(batch_size):\n",
    "\n",
    "    arg_dict = {\n",
    "    #Increment version to reload DS\n",
    "    'train_percent':0.0001,\n",
    "    'val_percent':0.0001, \n",
    "    'test_percent':0.0001 , \n",
    "    'generation_verbosity' : 10 , \n",
    "    'Scaler_fcn':ScaleImage,\n",
    "    # Image size variable does not work .. it is always (150,150)\n",
    "    'Image_Size' : (150,150),\n",
    "   #'band_filters' : ['CFHT_MEGACAM.U', 'SUBARU_HSC.G' ,'SUBARU_HSC.R' ,'CFHT_MEGACAM.R' ,'SUBARU_HSC.I', 'SUBARU_HSC.Z' ,'SUBARU_HSC.Y']\n",
    "    'band_filters' : ['CFHT_MEGACAM.R']\n",
    "    }\n",
    "    #subsets = [tfds.Split.TRAIN,tfds.Split.VALIDATION, tfds.Split.TEST]\n",
    "    subsets = [tfds.Split.TRAIN]\n",
    "    ds = tfds.load('TNGDataSet',\n",
    "                   split=subsets,\n",
    "                   data_dir=data_dir,\n",
    "                   builder_kwargs=arg_dict, \n",
    "                   shuffle_files=True)\n",
    "    tng_ds = ds[0]\n",
    "    tng_ds = tng_ds.shuffle(buffer_size=10*batch_size)\n",
    "    tng_ds = tng_ds.repeat()\n",
    "    tng_ds = tng_ds.batch(batch_size)\n",
    "    tng_ds = tng_ds.prefetch(tf.data.experimental.AUTOTUNE)\n",
    "    return tng_ds.as_numpy_iterator()\n",
    "     \n",
    "\n"
   ]
  },
  {
   "attachments": {},
   "cell_type": "markdown",
   "metadata": {},
   "source": [
    "To recover the subsets you can recover them directly from the newly created dataset"
   ]
  },
  {
   "cell_type": "code",
   "execution_count": null,
   "metadata": {},
   "outputs": [],
   "source": [
    "ds_tng= load_dataset(32)\n",
    "batch = next(ds_tng)"
   ]
  },
  {
   "attachments": {},
   "cell_type": "markdown",
   "metadata": {},
   "source": [
    "# WIP : Plotting proto"
   ]
  },
  {
   "cell_type": "code",
   "execution_count": null,
   "metadata": {},
   "outputs": [],
   "source": [
    "import random\n",
    "for i in range(4):\n",
    "    plt.figure()\n",
    "    plt.subplot(131)\n",
    "    plt.imshow(batch['img'][random.randint(0, 32)])"
   ]
  }
 ],
 "metadata": {
  "kernelspec": {
   "display_name": "astro",
   "language": "python",
   "name": "python3"
  },
  "language_info": {
   "codemirror_mode": {
    "name": "ipython",
    "version": 3
   },
   "file_extension": ".py",
   "mimetype": "text/x-python",
   "name": "python",
   "nbconvert_exporter": "python",
   "pygments_lexer": "ipython3",
   "version": "3.8.16"
  },
  "orig_nbformat": 4
 },
 "nbformat": 4,
 "nbformat_minor": 2
}
