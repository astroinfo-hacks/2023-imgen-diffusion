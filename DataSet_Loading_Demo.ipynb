{
 "cells": [
  {
   "attachments": {},
   "cell_type": "markdown",
   "metadata": {},
   "source": [
    "# Data set Loading demo"
   ]
  },
  {
   "cell_type": "code",
   "execution_count": null,
   "metadata": {},
   "outputs": [],
   "source": [
    "import matplotlib.pyplot as plt\n",
    "from astropy.visualization import astropy_mpl_style\n",
    "import os\n",
    "import tensorflow as tf\n",
    "import tensorflow_datasets as tfds\n",
    "from TNGDataSet import TNGDataSet,loadTNGDataset\n",
    "plt.style.use(astropy_mpl_style)"
   ]
  },
  {
   "cell_type": "code",
   "execution_count": null,
   "metadata": {},
   "outputs": [],
   "source": [
    "# scaling function\n",
    "from transformations import transformations as _transformations\n",
    "def ScaleImage(img, z = 0.1, experiment = 'HSC', new_size = 150):\n",
    "    return _transformations.ScaleImage(img,experiment=experiment,new_size=new_size,z=z)"
   ]
  },
  {
   "attachments": {},
   "cell_type": "markdown",
   "metadata": {},
   "source": [
    "## Tracing function\n",
    "set to 0 for no traces up to 4 for alot of traces"
   ]
  },
  {
   "cell_type": "code",
   "execution_count": null,
   "metadata": {},
   "outputs": [],
   "source": [
    "os.environ[\"DIFF_TRACE\"]=\"0\""
   ]
  },
  {
   "attachments": {},
   "cell_type": "markdown",
   "metadata": {},
   "source": [
    "## Set up dataset creation arguments and load the data set\n",
    "\n",
    "Dataset is only loaded the first time and will be stored locally in data_dir/tng_data_set folder\n"
   ]
  },
  {
   "cell_type": "code",
   "execution_count": null,
   "metadata": {},
   "outputs": [],
   "source": [
    "# Training set preparation\n",
    "def load_dataset(batch_size):\n",
    "\n",
    "    #subsets = [tfds.Split.TRAIN,tfds.Split.VALIDATION, tfds.Split.TEST]\n",
    "    subsets = [tfds.Split.TRAIN]\n",
    "    ds = loadTNGDataset( input_dir='/home/wassim/Projects/Hackathon23/hack-galaxy-image-diffusion/data/', \n",
    "            output_dir='/home/wassim/Projects/Hackathon23/hack-galaxy-image-diffusion/TNG_folder',\n",
    "            train_percent=0.000001, \n",
    "            val_percent=0.000001, \n",
    "            test_percent=0.000001,\n",
    "            Scaler_fcn=ScaleImage ,\n",
    "            generation_verbosity=1000,\n",
    "            Image_Size=(150,150),\n",
    "            band_filters=['CFHT_MEGACAM.U', 'SUBARU_HSC.G' ,'SUBARU_HSC.R' ,'CFHT_MEGACAM.R' ,'SUBARU_HSC.I', 'SUBARU_HSC.Z' ,'SUBARU_HSC.Y'],\n",
    "            subsets = subsets)\n",
    "    tng_ds = ds\n",
    "    tng_ds = tng_ds.shuffle(buffer_size=10*batch_size)\n",
    "    tng_ds = tng_ds.repeat()\n",
    "    tng_ds = tng_ds.batch(batch_size)\n",
    "    tng_ds = tng_ds.prefetch(tf.data.experimental.AUTOTUNE)\n",
    "    return tng_ds.as_numpy_iterator()"
   ]
  },
  {
   "attachments": {},
   "cell_type": "markdown",
   "metadata": {},
   "source": [
    "To recover the subsets you can recover them directly from the newly created dataset"
   ]
  },
  {
   "cell_type": "code",
   "execution_count": null,
   "metadata": {},
   "outputs": [],
   "source": [
    "ds_tng= load_dataset(32)\n",
    "batch = next(ds_tng)"
   ]
  },
  {
   "attachments": {},
   "cell_type": "markdown",
   "metadata": {},
   "source": [
    "# WIP : Plotting proto"
   ]
  },
  {
   "cell_type": "code",
   "execution_count": null,
   "metadata": {},
   "outputs": [],
   "source": [
    "import random\n",
    "for i in range(4):\n",
    "    plt.figure()\n",
    "    plt.subplot(131)\n",
    "    plt.imshow(batch['img'][random.randint(0, 32)])"
   ]
  }
 ],
 "metadata": {
  "kernelspec": {
   "display_name": "astro",
   "language": "python",
   "name": "python3"
  },
  "language_info": {
   "codemirror_mode": {
    "name": "ipython",
    "version": 3
   },
   "file_extension": ".py",
   "mimetype": "text/x-python",
   "name": "python",
   "nbconvert_exporter": "python",
   "pygments_lexer": "ipython3",
   "version": "3.11.3"
  },
  "orig_nbformat": 4
 },
 "nbformat": 4,
 "nbformat_minor": 2
}
